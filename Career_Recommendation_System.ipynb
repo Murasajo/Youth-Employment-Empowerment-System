{
 "cells": [
  {
   "cell_type": "code",
   "execution_count": null,
   "id": "d40b3207-bc34-4556-8a6e-1083b4d5b992",
   "metadata": {},
   "outputs": [],
   "source": [
    "# Import required libraries\n",
    "import pandas as pd\n",
    "import numpy as np\n",
    "from sklearn.preprocessing import LabelEncoder, StandardScaler\n",
    "from sklearn.metrics.pairwise import cosine_similarity\n",
    "import warnings\n",
    "warnings.filterwarnings('ignore')"
   ]
  },
  {
   "cell_type": "code",
   "execution_count": null,
   "id": "0045e5d0-324c-4e76-9df5-d9a6e263ed02",
   "metadata": {},
   "outputs": [],
   "source": [
    "df = pd.read_csv('career_recommender.csv')\n",
    "df.head()"
   ]
  },
  {
   "cell_type": "code",
   "execution_count": 5,
   "id": "84a88614-4eda-45df-a8e8-7942b56020fe",
   "metadata": {},
   "outputs": [
    {
     "data": {
      "text/plain": [
       "Index(['What is your name?', 'What is your gender?',\n",
       "       'What was your course in UG?',\n",
       "       'What is your UG specialization? Major Subject (Eg; Mathematics)',\n",
       "       'What are your interests?',\n",
       "       'What are your skills ? (Select multiple if necessary)',\n",
       "       'What was the average CGPA or Percentage obtained in under graduation?',\n",
       "       'Did you do any certification courses additionally?',\n",
       "       'If yes, please specify your certificate course title.',\n",
       "       'Are you working?',\n",
       "       'If yes, then what is/was your first Job title in your current field of work? If not applicable, write NA.               ',\n",
       "       'Have you done masters after undergraduation? If yes, mention your field of masters.(Eg; Masters in Mathematics)'],\n",
       "      dtype='object')"
      ]
     },
     "execution_count": 5,
     "metadata": {},
     "output_type": "execute_result"
    }
   ],
   "source": [
    "df.columns"
   ]
  },
  {
   "cell_type": "code",
   "execution_count": 7,
   "id": "1bda8088-349b-4bc2-bbf8-6a651823be5a",
   "metadata": {},
   "outputs": [
    {
     "data": {
      "text/plain": [
       "What is your name?                                                                                                            0\n",
       "What is your gender?                                                                                                          0\n",
       "What was your course in UG?                                                                                                   0\n",
       "What is your UG specialization? Major Subject (Eg; Mathematics)                                                               0\n",
       "What are your interests?                                                                                                      0\n",
       "What are your skills ? (Select multiple if necessary)                                                                         1\n",
       "What was the average CGPA or Percentage obtained in under graduation?                                                         0\n",
       "Did you do any certification courses additionally?                                                                            0\n",
       "If yes, please specify your certificate course title.                                                                         1\n",
       "Are you working?                                                                                                              0\n",
       "If yes, then what is/was your first Job title in your current field of work? If not applicable, write NA.                   296\n",
       "Have you done masters after undergraduation? If yes, mention your field of masters.(Eg; Masters in Mathematics)             726\n",
       "dtype: int64"
      ]
     },
     "execution_count": 7,
     "metadata": {},
     "output_type": "execute_result"
    }
   ],
   "source": [
    "df.isnull().sum()"
   ]
  },
  {
   "cell_type": "code",
   "execution_count": 9,
   "id": "46a243b2-b833-4e3a-b488-049a71ffc7f2",
   "metadata": {},
   "outputs": [
    {
     "data": {
      "text/plain": [
       "0    NO\n",
       "Name: What are your skills ? (Select multiple if necessary), dtype: object"
      ]
     },
     "execution_count": 9,
     "metadata": {},
     "output_type": "execute_result"
    }
   ],
   "source": [
    "df['What are your skills ? (Select multiple if necessary)'].mode()"
   ]
  },
  {
   "cell_type": "code",
   "execution_count": 11,
   "id": "3ec203f4-4ec0-441f-a1b6-05a46ef07e57",
   "metadata": {},
   "outputs": [],
   "source": [
    "# 1. Data Loading and Preprocessing\n",
    "def load_and_preprocess_data(file_path):\n",
    "    \"\"\"\n",
    "    Load and preprocess the career dataset\n",
    "    \"\"\"\n",
    "    # Load data\n",
    "    df = pd.read_csv(file_path)\n",
    "    \n",
    "    # Clean column names\n",
    "    df.columns = [col.strip() for col in df.columns]\n",
    "    \n",
    "    # Fill NA/NaN values\n",
    "    df = df.fillna('Not Applicable')\n",
    "    \n",
    "    return df"
   ]
  },
  {
   "cell_type": "code",
   "execution_count": 13,
   "id": "1385af11-161f-426d-917e-6cc34e03c4fa",
   "metadata": {},
   "outputs": [],
   "source": [
    "# 2. Feature Engineering\n",
    "def engineer_features(df):\n",
    "    \"\"\"\n",
    "    Convert categorical variables to numerical and prepare features for similarity matching\n",
    "    \"\"\"\n",
    "    # Initialize LabelEncoder\n",
    "    le = LabelEncoder()\n",
    "    \n",
    "    # Encode categorical columns\n",
    "    categorical_cols = ['What is your gender?', \n",
    "                       'What was your course in UG?',\n",
    "                       'What is your UG specialization? Major Subject (Eg; Mathematics)',\n",
    "                       'Did you do any certification courses additionally?',\n",
    "                       'Are you working?',\n",
    "                       'Have you done masters after undergraduation? If yes, mention your field of masters.(Eg; Masters in Mathematics)']\n",
    "    \n",
    "    for col in categorical_cols:\n",
    "        df[col + '_encoded'] = le.fit_transform(df[col])\n",
    "    \n",
    "    # Process skills and interests\n",
    "    def split_and_encode(text):\n",
    "        if isinstance(text, str):\n",
    "            return text.split(';')\n",
    "        return []\n",
    "\n",
    "    df['skills_list'] = df['What are your skills ? (Select multiple if necessary)'].apply(split_and_encode)\n",
    "    df['interests_list'] = df['What are your interests?'].apply(split_and_encode)\n",
    "    \n",
    "    # Create feature matrix\n",
    "    feature_matrix = pd.DataFrame()\n",
    "    feature_matrix['gender'] = df['What is your gender?_encoded']\n",
    "    feature_matrix['course'] = df['What was your course in UG?_encoded']\n",
    "    feature_matrix['specialization'] = df['What is your UG specialization? Major Subject (Eg; Mathematics)_encoded']\n",
    "    feature_matrix['cgpa'] = pd.to_numeric(df['What was the average CGPA or Percentage obtained in under graduation?'], errors='coerce')\n",
    "    feature_matrix['certification'] = df['Did you do any certification courses additionally?_encoded']\n",
    "    feature_matrix['working'] = df['Are you working?_encoded']\n",
    "    feature_matrix['masters'] = df['Have you done masters after undergraduation? If yes, mention your field of masters.(Eg; Masters in Mathematics)_encoded']\n",
    "    \n",
    "    # Normalize features\n",
    "    scaler = StandardScaler()\n",
    "    feature_matrix_scaled = scaler.fit_transform(feature_matrix)\n",
    "\n",
    "    return feature_matrix_scaled, df"
   ]
  },
  {
   "cell_type": "code",
   "execution_count": 15,
   "id": "8ecbf1cc-63e6-4be3-a2a6-0ae0faff52ce",
   "metadata": {},
   "outputs": [],
   "source": [
    "# 3. Career Recommendation Function\n",
    "def recommend_career(user_inputs, feature_matrix_scaled, original_df):\n",
    "    \"\"\"\n",
    "    Recommend careers based on user inputs and similarity matching\n",
    "    \"\"\"\n",
    "    # Convert user inputs to feature vector\n",
    "    user_vector = np.zeros((1, feature_matrix_scaled.shape[1]))\n",
    "    \n",
    "    # Map user inputs to feature vector (this would need to be aligned with the feature engineering process)\n",
    "    # This is a simplified version - you'd need to use the same encoding scheme as in feature engineering\n",
    "    user_vector[0, 0] = 1 if user_inputs['gender'].lower() == 'male' else 0  # gender\n",
    "    user_vector[0, 1] = 0  # course (simplified)\n",
    "    user_vector[0, 2] = 0  # specialization (simplified)\n",
    "    user_vector[0, 3] = float(user_inputs['cgpa'])  # cgpa\n",
    "    user_vector[0, 4] = 1 if user_inputs['certification'].lower() == 'yes' else 0  # certification\n",
    "    user_vector[0, 5] = 1 if user_inputs['working'].lower() == 'yes' else 0  # working\n",
    "    user_vector[0, 6] = 1 if user_inputs['masters'].lower() != 'not applicable' else 0  # masters\n",
    "    \n",
    "    # Calculate similarity scores\n",
    "    similarities = cosine_similarity(user_vector, feature_matrix_scaled)\n",
    "    \n",
    "    # Get top 3 similar profiles\n",
    "    top_matches_idx = similarities[0].argsort()[-3:][::-1]\n",
    "    \n",
    "    recommendations = []\n",
    "    for idx in top_matches_idx:\n",
    "        career_info = {\n",
    "            'name': original_df.iloc[idx]['What is your name?'],\n",
    "            'job_title': original_df.iloc[idx]['If yes, then what is/was your first Job title in your current field of work? If not applicable, write NA.'],\n",
    "            'similarity_score': similarities[0][idx]\n",
    "        }\n",
    "        recommendations.append(career_info)\n",
    "    \n",
    "    return recommendations"
   ]
  },
  {
   "cell_type": "code",
   "execution_count": 17,
   "id": "2131e261-a5af-405f-a349-df83e802b78b",
   "metadata": {},
   "outputs": [],
   "source": [
    "# 4. User Input Collection\n",
    "def get_user_inputs():\n",
    "    \"\"\"\n",
    "    Collect user inputs through interactive prompts\n",
    "    \"\"\"\n",
    "    questions = {\n",
    "        'name': 'What is your name?',\n",
    "        'gender': 'What is your gender? (Male/Female)',\n",
    "        'course': 'What was your course in UG?',\n",
    "        'specialization': 'What is your UG specialization?',\n",
    "        'interests': 'What are your interests? (separate multiple interests with semicolons)',\n",
    "        'skills': 'What are your skills? (separate multiple skills with semicolons)',\n",
    "        'cgpa': 'What was your average CGPA or Percentage in under graduation?',\n",
    "        'certification': 'Did you do any certification courses additionally? (Yes/No)',\n",
    "        'cert_title': 'If yes, please specify your certificate course title',\n",
    "        'working': 'Are you working? (Yes/No)',\n",
    "        'job_title': 'If yes, what is your current job title? (write NA if not applicable)',\n",
    "        'masters': 'Have you done masters after undergraduation? If yes, mention your field'\n",
    "    }\n",
    "    \n",
    "    user_inputs = {}\n",
    "    for key, question in questions.items():\n",
    "        user_inputs[key] = input(f\"{question}: \")\n",
    "    \n",
    "    return user_inputs\n"
   ]
  },
  {
   "cell_type": "code",
   "execution_count": null,
   "id": "f109bf79-d7a6-4dcf-b9f1-b344fe721b20",
   "metadata": {},
   "outputs": [],
   "source": [
    "# Example usage\n",
    "if __name__ == \"__main__\":\n",
    "    # Load and preprocess data\n",
    "    df = load_and_preprocess_data('career_recommender.csv')\n",
    "    \n",
    "    # Engineer features\n",
    "    feature_matrix_scaled, processed_df = engineer_features(df)\n",
    "    \n",
    "    # Get user inputs\n",
    "    user_inputs = get_user_inputs()\n",
    "    \n",
    "    # Get recommendations\n",
    "    recommendations = recommend_career(user_inputs, feature_matrix_scaled, processed_df)\n",
    "    \n",
    "    # Display recommendations\n",
    "    print(\"\\nBased on your profile, here are the recommended career paths:\")\n",
    "    for i, rec in enumerate(recommendations, 1):\n",
    "        print(f\"\\n{i}. Recommended Career Path:\")\n",
    "        print(f\"Based on similar profile: {rec['name']}\")\n",
    "        print(f\"Recommended Job Role: {rec['job_title']}\")\n",
    "        print(f\"Similarity Score: {rec['similarity_score']:.2f}\")"
   ]
  },
  {
   "cell_type": "code",
   "execution_count": 11,
   "id": "f0532ac9-abd8-4070-b9de-a064dd58b4b7",
   "metadata": {},
   "outputs": [
    {
     "name": "stdout",
     "output_type": "stream",
     "text": [
      "CSV file 'career_recommender.csv' has been converted to JSON file 'career.json'\n"
     ]
    }
   ],
   "source": [
    "import pandas as pd\n",
    "\n",
    "# Load the CSV file\n",
    "csv_file = 'career_recommender.csv' \n",
    "json_file = 'career.json'\n",
    "\n",
    "# Read the CSV file into a DataFrame\n",
    "df = pd.read_csv(csv_file)\n",
    "\n",
    "# Convert DataFrame to JSON and save to file\n",
    "df.to_json(json_file, orient='records', lines=True)\n",
    "\n",
    "print(f\"CSV file '{csv_file}' has been converted to JSON file '{json_file}'\")\n"
   ]
  },
  {
   "cell_type": "code",
   "execution_count": 9,
   "id": "7230f68d-432e-4af2-850b-a6338d044c3e",
   "metadata": {},
   "outputs": [
    {
     "ename": "JSONDecodeError",
     "evalue": "Extra data: line 2 column 1 (char 799)",
     "output_type": "error",
     "traceback": [
      "\u001b[1;31m---------------------------------------------------------------------------\u001b[0m",
      "\u001b[1;31mJSONDecodeError\u001b[0m                           Traceback (most recent call last)",
      "Cell \u001b[1;32mIn[9], line 2\u001b[0m\n\u001b[0;32m      1\u001b[0m \u001b[38;5;28;01mwith\u001b[39;00m \u001b[38;5;28mopen\u001b[39m(\u001b[38;5;124m'\u001b[39m\u001b[38;5;124mcareer.json\u001b[39m\u001b[38;5;124m'\u001b[39m, \u001b[38;5;124m'\u001b[39m\u001b[38;5;124mr\u001b[39m\u001b[38;5;124m'\u001b[39m) \u001b[38;5;28;01mas\u001b[39;00m f:\n\u001b[1;32m----> 2\u001b[0m     data \u001b[38;5;241m=\u001b[39m json\u001b[38;5;241m.\u001b[39mload(f)\n\u001b[0;32m      4\u001b[0m \u001b[38;5;28mprint\u001b[39m(data)\n",
      "File \u001b[1;32mC:\\ProgramData\\anaconda3\\Lib\\json\\__init__.py:293\u001b[0m, in \u001b[0;36mload\u001b[1;34m(fp, cls, object_hook, parse_float, parse_int, parse_constant, object_pairs_hook, **kw)\u001b[0m\n\u001b[0;32m    274\u001b[0m \u001b[38;5;28;01mdef\u001b[39;00m \u001b[38;5;21mload\u001b[39m(fp, \u001b[38;5;241m*\u001b[39m, \u001b[38;5;28mcls\u001b[39m\u001b[38;5;241m=\u001b[39m\u001b[38;5;28;01mNone\u001b[39;00m, object_hook\u001b[38;5;241m=\u001b[39m\u001b[38;5;28;01mNone\u001b[39;00m, parse_float\u001b[38;5;241m=\u001b[39m\u001b[38;5;28;01mNone\u001b[39;00m,\n\u001b[0;32m    275\u001b[0m         parse_int\u001b[38;5;241m=\u001b[39m\u001b[38;5;28;01mNone\u001b[39;00m, parse_constant\u001b[38;5;241m=\u001b[39m\u001b[38;5;28;01mNone\u001b[39;00m, object_pairs_hook\u001b[38;5;241m=\u001b[39m\u001b[38;5;28;01mNone\u001b[39;00m, \u001b[38;5;241m*\u001b[39m\u001b[38;5;241m*\u001b[39mkw):\n\u001b[0;32m    276\u001b[0m \u001b[38;5;250m    \u001b[39m\u001b[38;5;124;03m\"\"\"Deserialize ``fp`` (a ``.read()``-supporting file-like object containing\u001b[39;00m\n\u001b[0;32m    277\u001b[0m \u001b[38;5;124;03m    a JSON document) to a Python object.\u001b[39;00m\n\u001b[0;32m    278\u001b[0m \n\u001b[1;32m   (...)\u001b[0m\n\u001b[0;32m    291\u001b[0m \u001b[38;5;124;03m    kwarg; otherwise ``JSONDecoder`` is used.\u001b[39;00m\n\u001b[0;32m    292\u001b[0m \u001b[38;5;124;03m    \"\"\"\u001b[39;00m\n\u001b[1;32m--> 293\u001b[0m     \u001b[38;5;28;01mreturn\u001b[39;00m loads(fp\u001b[38;5;241m.\u001b[39mread(),\n\u001b[0;32m    294\u001b[0m         \u001b[38;5;28mcls\u001b[39m\u001b[38;5;241m=\u001b[39m\u001b[38;5;28mcls\u001b[39m, object_hook\u001b[38;5;241m=\u001b[39mobject_hook,\n\u001b[0;32m    295\u001b[0m         parse_float\u001b[38;5;241m=\u001b[39mparse_float, parse_int\u001b[38;5;241m=\u001b[39mparse_int,\n\u001b[0;32m    296\u001b[0m         parse_constant\u001b[38;5;241m=\u001b[39mparse_constant, object_pairs_hook\u001b[38;5;241m=\u001b[39mobject_pairs_hook, \u001b[38;5;241m*\u001b[39m\u001b[38;5;241m*\u001b[39mkw)\n",
      "File \u001b[1;32mC:\\ProgramData\\anaconda3\\Lib\\json\\__init__.py:346\u001b[0m, in \u001b[0;36mloads\u001b[1;34m(s, cls, object_hook, parse_float, parse_int, parse_constant, object_pairs_hook, **kw)\u001b[0m\n\u001b[0;32m    341\u001b[0m     s \u001b[38;5;241m=\u001b[39m s\u001b[38;5;241m.\u001b[39mdecode(detect_encoding(s), \u001b[38;5;124m'\u001b[39m\u001b[38;5;124msurrogatepass\u001b[39m\u001b[38;5;124m'\u001b[39m)\n\u001b[0;32m    343\u001b[0m \u001b[38;5;28;01mif\u001b[39;00m (\u001b[38;5;28mcls\u001b[39m \u001b[38;5;129;01mis\u001b[39;00m \u001b[38;5;28;01mNone\u001b[39;00m \u001b[38;5;129;01mand\u001b[39;00m object_hook \u001b[38;5;129;01mis\u001b[39;00m \u001b[38;5;28;01mNone\u001b[39;00m \u001b[38;5;129;01mand\u001b[39;00m\n\u001b[0;32m    344\u001b[0m         parse_int \u001b[38;5;129;01mis\u001b[39;00m \u001b[38;5;28;01mNone\u001b[39;00m \u001b[38;5;129;01mand\u001b[39;00m parse_float \u001b[38;5;129;01mis\u001b[39;00m \u001b[38;5;28;01mNone\u001b[39;00m \u001b[38;5;129;01mand\u001b[39;00m\n\u001b[0;32m    345\u001b[0m         parse_constant \u001b[38;5;129;01mis\u001b[39;00m \u001b[38;5;28;01mNone\u001b[39;00m \u001b[38;5;129;01mand\u001b[39;00m object_pairs_hook \u001b[38;5;129;01mis\u001b[39;00m \u001b[38;5;28;01mNone\u001b[39;00m \u001b[38;5;129;01mand\u001b[39;00m \u001b[38;5;129;01mnot\u001b[39;00m kw):\n\u001b[1;32m--> 346\u001b[0m     \u001b[38;5;28;01mreturn\u001b[39;00m _default_decoder\u001b[38;5;241m.\u001b[39mdecode(s)\n\u001b[0;32m    347\u001b[0m \u001b[38;5;28;01mif\u001b[39;00m \u001b[38;5;28mcls\u001b[39m \u001b[38;5;129;01mis\u001b[39;00m \u001b[38;5;28;01mNone\u001b[39;00m:\n\u001b[0;32m    348\u001b[0m     \u001b[38;5;28mcls\u001b[39m \u001b[38;5;241m=\u001b[39m JSONDecoder\n",
      "File \u001b[1;32mC:\\ProgramData\\anaconda3\\Lib\\json\\decoder.py:340\u001b[0m, in \u001b[0;36mJSONDecoder.decode\u001b[1;34m(self, s, _w)\u001b[0m\n\u001b[0;32m    338\u001b[0m end \u001b[38;5;241m=\u001b[39m _w(s, end)\u001b[38;5;241m.\u001b[39mend()\n\u001b[0;32m    339\u001b[0m \u001b[38;5;28;01mif\u001b[39;00m end \u001b[38;5;241m!=\u001b[39m \u001b[38;5;28mlen\u001b[39m(s):\n\u001b[1;32m--> 340\u001b[0m     \u001b[38;5;28;01mraise\u001b[39;00m JSONDecodeError(\u001b[38;5;124m\"\u001b[39m\u001b[38;5;124mExtra data\u001b[39m\u001b[38;5;124m\"\u001b[39m, s, end)\n\u001b[0;32m    341\u001b[0m \u001b[38;5;28;01mreturn\u001b[39;00m obj\n",
      "\u001b[1;31mJSONDecodeError\u001b[0m: Extra data: line 2 column 1 (char 799)"
     ]
    }
   ],
   "source": [
    "with open('career.json', 'r') as f:\n",
    "    data = json.load(f)\n",
    "\n",
    "print(data)"
   ]
  },
  {
   "cell_type": "code",
   "execution_count": null,
   "id": "727b63cb-b5e0-49fa-b96e-e5ee2203e9c6",
   "metadata": {},
   "outputs": [],
   "source": []
  }
 ],
 "metadata": {
  "kernelspec": {
   "display_name": "Python 3 (ipykernel)",
   "language": "python",
   "name": "python3"
  },
  "language_info": {
   "codemirror_mode": {
    "name": "ipython",
    "version": 3
   },
   "file_extension": ".py",
   "mimetype": "text/x-python",
   "name": "python",
   "nbconvert_exporter": "python",
   "pygments_lexer": "ipython3",
   "version": "3.11.5"
  }
 },
 "nbformat": 4,
 "nbformat_minor": 5
}
